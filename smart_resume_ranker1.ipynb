{
 "cells": [
  {
   "cell_type": "code",
   "execution_count": null,
   "id": "5626907a",
   "metadata": {},
   "outputs": [],
   "source": []
  },
  {
   "cell_type": "code",
   "execution_count": 15,
   "id": "b1049275",
   "metadata": {},
   "outputs": [],
   "source": [
    "import os\n",
    "import docx2txt\n",
    "import PyPDF2\n",
    "from sklearn.feature_extraction.text import TfidfVectorizer\n",
    "from sklearn.metrics.pairwise import cosine_similarity"
   ]
  },
  {
   "cell_type": "code",
   "execution_count": 31,
   "id": "0541ec13",
   "metadata": {},
   "outputs": [],
   "source": [
    "import os\n",
    "\n",
    "os.makedirs(\"job_description\", exist_ok=True)\n",
    "\n",
    "with open(\"job_description/job_description.txt\", \"w\", encoding=\"utf-8\") as f:\n",
    "    f.write(\"We are looking for a Python developer with experience in Pandas, Flask, and ML.\")\n",
    "    with open(\"job_description/job_description.txt\", \"r\", encoding=\"utf-8\") as file:\n",
    "      jd_text = file.read()"
   ]
  },
  {
   "cell_type": "code",
   "execution_count": 18,
   "id": "63f8eb6e",
   "metadata": {},
   "outputs": [],
   "source": [
    "def extract_text_from_pdf(pdf_path):\n",
    "    text = \"\"\n",
    "    with open(pdf_path, \"rb\") as file:\n",
    "        reader = PyPDF2.PdfReader(file)\n",
    "        for page in reader.pages:\n",
    "            if page.extract_text():\n",
    "                text += page.extract_text()\n",
    "    return text\n",
    "\n",
    "def extract_text_from_docx(docx_path):\n",
    "    return docx2txt.process(docx_path)\n",
    "\n",
    "resume_texts = []\n",
    "file_names = []\n",
    "\n",
    "for file in os.listdir(\"resumes\"):\n",
    "    path = os.path.join(\"resumes\", file)\n",
    "    if file.endswith(\".pdf\"):\n",
    "        text = extract_text_from_pdf(path)\n",
    "    elif file.endswith(\".docx\"):\n",
    "        text = extract_text_from_docx(path)\n",
    "    elif file.endswith(\".txt\"):\n",
    "        with open(path, \"r\", encoding=\"utf-8\") as f:\n",
    "            text = f.read()\n",
    "    else:\n",
    "        continue\n",
    "    resume_texts.append(text)\n",
    "    file_names.append(file)"
   ]
  },
  {
   "cell_type": "code",
   "execution_count": 33,
   "id": "60d18071",
   "metadata": {},
   "outputs": [],
   "source": [
    "all_docs = [jd_text] + resume_texts\n",
    "vectorizer = TfidfVectorizer(stop_words=\"english\")\n",
    "vectors = vectorizer.fit_transform(all_docs)\n",
    "\n",
    "scores = cosine_similarity(vectors[0:1], vectors[1:]).flatten()\n",
    "ranked_resumes = sorted(zip(file_names, resume_texts, scores), key=lambda x: x[2], reverse=True)"
   ]
  },
  {
   "cell_type": "code",
   "execution_count": 34,
   "id": "dfb5a2dc",
   "metadata": {},
   "outputs": [
    {
     "name": "stdout",
     "output_type": "stream",
     "text": [
      "✅ Top Resume: Balaabirami Content Writer SEO-optimized .pdf\n",
      "⭐ Relevance Score: 0.0\n",
      "\n",
      "📌 Reason for Selection:\n",
      "✓ 0 matching keywords found\n",
      "→  ...\n"
     ]
    }
   ],
   "source": [
    "top_resume = ranked_resumes[0]\n",
    "print(\"✅ Top Resume:\", top_resume[0])\n",
    "print(\"⭐ Relevance Score:\", round(top_resume[2], 2))\n",
    "\n",
    "jd_keywords = set(jd_text.lower().split())\n",
    "resume_keywords = set(top_resume[1].lower().split())\n",
    "matched_keywords = jd_keywords.intersection(resume_keywords)\n",
    "\n",
    "print(\"\\n📌 Reason for Selection:\")\n",
    "print(f\"✓ {len(matched_keywords)} matching keywords found\")\n",
    "print(\"→\", \", \".join(list(matched_keywords)[:20]), \"...\")"
   ]
  },
  {
   "cell_type": "code",
   "execution_count": 35,
   "id": "211c5c5a",
   "metadata": {},
   "outputs": [
    {
     "name": "stdout",
     "output_type": "stream",
     "text": [
      "Resumes loaded: 12\n",
      "JD text length: 0\n"
     ]
    }
   ],
   "source": [
    "print(\"Resumes loaded:\", len(resume_texts))\n",
    "print(\"JD text length:\", len(jd_text))"
   ]
  },
  {
   "cell_type": "code",
   "execution_count": null,
   "id": "37636c3a",
   "metadata": {},
   "outputs": [],
   "source": []
  }
 ],
 "metadata": {
  "kernelspec": {
   "display_name": "Python 3 (ipykernel)",
   "language": "python",
   "name": "python3"
  },
  "language_info": {
   "codemirror_mode": {
    "name": "ipython",
    "version": 3
   },
   "file_extension": ".py",
   "mimetype": "text/x-python",
   "name": "python",
   "nbconvert_exporter": "python",
   "pygments_lexer": "ipython3",
   "version": "3.11.5"
  }
 },
 "nbformat": 4,
 "nbformat_minor": 5
}
